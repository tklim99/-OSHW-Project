{
 "cells": [
  {
   "cell_type": "code",
   "execution_count": 1,
   "id": "db228dbe",
   "metadata": {},
   "outputs": [],
   "source": [
    "import pyzbar.pyzbar as pyzbar\n",
    "import cv2\n",
    "\n",
    "cap = cv2.VideoCapture(0)\n",
    "\n",
    "i = 0\n",
    "while(cap.isOpened()):\n",
    "  ret, img = cap.read()\n",
    "\n",
    "  if not ret:\n",
    "    continue\n",
    "\n",
    "  gray = cv2.cvtColor(img, cv2.COLOR_BGR2GRAY)\n",
    "     \n",
    "  decoded = pyzbar.decode(gray)\n",
    "\n",
    "  for d in decoded: \n",
    "    x, y, w, h = d.rect\n",
    "\n",
    "    barcode_data = d.data.decode(\"utf-8\")\n",
    "    barcode_type = d.type\n",
    "\n",
    "    cv2.rectangle(img, (x, y), (x + w, y + h), (0, 0, 255), 2)\n",
    "\n",
    "    text = '%s (%s)' % (barcode_data, barcode_type)\n",
    "    cv2.putText(img, text, (x, y), cv2.FONT_HERSHEY_SIMPLEX, 1, (0, 255, 255), 2, cv2.LINE_AA)\n",
    "\n",
    "  cv2.imshow('img', img)\n",
    "\n",
    "  key = cv2.waitKey(1)\n",
    "  if key == ord('q'):\n",
    "    break\n",
    "  elif key == ord('s'):\n",
    "    i += 1\n",
    "    cv2.imwrite('c_%03d.jpg' % i, img)\n",
    "\n",
    "cap.release()\n",
    "cv2.destroyAllWindows()"
   ]
  },
  {
   "cell_type": "code",
   "execution_count": null,
   "id": "a1a791dc",
   "metadata": {},
   "outputs": [],
   "source": []
  },
  {
   "cell_type": "code",
   "execution_count": null,
   "id": "601e8cf8",
   "metadata": {},
   "outputs": [],
   "source": []
  }
 ],
 "metadata": {
  "kernelspec": {
   "display_name": "Python 3 (ipykernel)",
   "language": "python",
   "name": "python3"
  },
  "language_info": {
   "codemirror_mode": {
    "name": "ipython",
    "version": 3
   },
   "file_extension": ".py",
   "mimetype": "text/x-python",
   "name": "python",
   "nbconvert_exporter": "python",
   "pygments_lexer": "ipython3",
   "version": "3.9.12"
  }
 },
 "nbformat": 4,
 "nbformat_minor": 5
}
